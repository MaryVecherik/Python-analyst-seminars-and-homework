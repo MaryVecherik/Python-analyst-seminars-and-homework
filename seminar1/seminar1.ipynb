{
 "cells": [
  {
   "attachments": {},
   "cell_type": "markdown",
   "metadata": {},
   "source": [
    "# Задание 1.\n",
    "### 1.1 Соедините два словаря в один\n",
    "### 1.2 Напишите функцию, которая на вход принимает два словаря и возвращает один объединенный словарь\n",
    "Используйте аннотирование типов"
   ]
  },
  {
   "cell_type": "code",
   "execution_count": 2,
   "metadata": {},
   "outputs": [
    {
     "name": "stdout",
     "output_type": "stream",
     "text": [
      "{'One': 1, 'Two': 2, 'Thee': 3, 'Four': 4, 'Five': 5, 'Six': 6}\n",
      "{'One': 1, 'Two': 2, 'Thee': 3, 'Four': 4, 'Five': 5, 'Six': 6}\n"
     ]
    }
   ],
   "source": [
    "dict1 = {'One': 1, 'Two': 2, 'Thee': 3}\n",
    "dict2 = {'Four': 4, 'Five': 5, 'Six': 6}\n",
    "\n",
    "#вариант 1\n",
    "def dict_merge(d1: dict, d2: dict) -> dict:\n",
    "    return d1 | d2\n",
    "\n",
    "print(dict_merge(dict1, dict2))\n",
    "\n",
    "#вариант 2\n",
    "def f(a: dict, b: dict) -> dict:\n",
    "    a.update(b)\n",
    "    return a\n",
    "\n",
    "print(f(dict1, dict2))"
   ]
  },
  {
   "attachments": {},
   "cell_type": "markdown",
   "metadata": {},
   "source": [
    "# Задание 2.\n",
    "Напишите функцию, которая из двух списков, делает один словарь, где элементы из первого списка - ключи, а элементы из второго списка - значения\n",
    "\n",
    "Используйте аннотирование типов"
   ]
  },
  {
   "cell_type": "code",
   "execution_count": 3,
   "metadata": {},
   "outputs": [],
   "source": [
    "keys = ['One', 'Two', 'Thee']\n",
    "values = [1, 2, 3, 4]"
   ]
  },
  {
   "attachments": {},
   "cell_type": "markdown",
   "metadata": {},
   "source": [
    "### 2.1 Используя цикл for"
   ]
  },
  {
   "cell_type": "code",
   "execution_count": 4,
   "metadata": {},
   "outputs": [
    {
     "name": "stdout",
     "output_type": "stream",
     "text": [
      "{'One': 1, 'Two': 2, 'Thee': 3}\n",
      "{'One': 1, 'Two': 2, 'Thee': 3}\n"
     ]
    }
   ],
   "source": [
    "#вариант 1\n",
    "def create_dict(keys: list, values: list) -> dict:\n",
    "    d = {}\n",
    "    for i in range(min(len(keys), len(values))):\n",
    "        d[keys[i]] = values[i]\n",
    "    return d\n",
    "\n",
    "print(create_dict(keys, values))\n",
    "\n",
    "#вариант 2\n",
    "def f(k: list[str], v: list[int]) -> dict[str, int]:\n",
    "    result = {}\n",
    "    for i in range(min(len(k), len(v))):\n",
    "        result[k[i]] = v[i]\n",
    "    return result\n",
    "\n",
    "print(f(keys, values))"
   ]
  },
  {
   "cell_type": "code",
   "execution_count": 19,
   "metadata": {},
   "outputs": [
    {
     "name": "stdout",
     "output_type": "stream",
     "text": [
      "{'One': 1, 'Two': 2, 'Thee': 3}\n"
     ]
    }
   ],
   "source": [
    "#вариант 3\n",
    "def d(keys: list, values: list) -> dict:\n",
    "    d = dict(zip(keys, values))\n",
    "    return d\n",
    "\n",
    "print(d(keys, values))"
   ]
  },
  {
   "attachments": {},
   "cell_type": "markdown",
   "metadata": {},
   "source": [
    "### 2.2 Используя dict comprehensions"
   ]
  },
  {
   "cell_type": "code",
   "execution_count": 20,
   "metadata": {},
   "outputs": [
    {
     "name": "stdout",
     "output_type": "stream",
     "text": [
      "{'One': 1, 'Two': 2, 'Thee': 3}\n",
      "{'One': 1, 'Two': 2, 'Thee': 3}\n"
     ]
    }
   ],
   "source": [
    "#вариант 1\n",
    "d = {keys[i]: values[i] for i in range(min(len(keys), len(values)))}\n",
    "print(d)\n",
    "\n",
    "#вариант 2\n",
    "result = {key: val for key, val in zip(keys, values)}\n",
    "print(result)"
   ]
  },
  {
   "attachments": {},
   "cell_type": "markdown",
   "metadata": {},
   "source": [
    "# Задание 3.\n",
    "Извлеките только два ключа name и age из представленного словаря"
   ]
  },
  {
   "cell_type": "code",
   "execution_count": 7,
   "metadata": {},
   "outputs": [],
   "source": [
    "client_dict = {\n",
    "    'name': 'John',\n",
    "    'age': 25,\n",
    "    'salary': 5000,\n",
    "    'city': 'Moscow'\n",
    "}"
   ]
  },
  {
   "attachments": {},
   "cell_type": "markdown",
   "metadata": {},
   "source": [
    "### 3.1 Напишите функцию с циклом for\n",
    "Функция на вход принимает:\n",
    "* исходный словарь\n",
    "* ключи, которые нужно извлечь (аргумент по умолчанию)\n",
    "\n",
    "На выходе словарь с нужными ключами\n",
    "\n",
    "Используйте аннотирование типов"
   ]
  },
  {
   "cell_type": "code",
   "execution_count": 8,
   "metadata": {},
   "outputs": [
    {
     "name": "stdout",
     "output_type": "stream",
     "text": [
      "{'name': 'John', 'age': 25, 'contry': None}\n"
     ]
    }
   ],
   "source": [
    "def create_dict(client_dict: dict, list: list) -> dict:\n",
    "    d = {}\n",
    "    for i in range(len(list)):\n",
    "            d[list[i]] = client_dict.get(list[i])\n",
    "    return d\n",
    "\n",
    "list = ['name', 'age', 'contry']\n",
    "print(create_dict(client_dict, list))\n"
   ]
  },
  {
   "attachments": {},
   "cell_type": "markdown",
   "metadata": {},
   "source": [
    "### 3.2 Используя dict comprehensions"
   ]
  },
  {
   "cell_type": "code",
   "execution_count": 9,
   "metadata": {},
   "outputs": [
    {
     "name": "stdout",
     "output_type": "stream",
     "text": [
      "{'name': 'John', 'age': 25, 'city': 'Moscow'}\n"
     ]
    }
   ],
   "source": [
    "list = ['name', 'age', 'city']\n",
    "d = {key: client_dict[key] for key in list}\n",
    "print(d)"
   ]
  },
  {
   "attachments": {},
   "cell_type": "markdown",
   "metadata": {},
   "source": [
    "# Задание 4.\n",
    "\n",
    "### 4.1 Сгенерируйте случайные целые числа от 0 до 100 в количестве 5 штук с помощью модуля random\n",
    "* Зафиксируйте псевдогенерацию, чтобы сгенерированные значения всегда были одинаковые\n",
    "* Используйте list comprehensions"
   ]
  },
  {
   "cell_type": "code",
   "execution_count": 10,
   "metadata": {},
   "outputs": [
    {
     "name": "stdout",
     "output_type": "stream",
     "text": [
      "[73, 4, 54, 61, 73]\n"
     ]
    }
   ],
   "source": [
    "import random\n",
    "\n",
    "random.seed(10)\n",
    "list = [random.randint(0, 100) for i in range(5)]\n",
    "print(list)"
   ]
  },
  {
   "attachments": {},
   "cell_type": "markdown",
   "metadata": {},
   "source": [
    "### 4.2 Напишите генератор\n",
    "* Генератор на вход принимает список с данными о клиенте (данные из пункта 4.1)\n",
    "* Внутри генератора реализуйте обход по списку с данными\n",
    "\n",
    "На каждой итерации генератор будет возвращать кортеж из двух элементов:\n",
    "1. данные по клиенту (в зависимости от итерации, на 0 итерации вернется 0 элемент, на 1 итерации вернется 1 элемент и тд)\n",
    "2. целочисленное значение, которое показывает, сколько секунд прошло с предыдущей итерации\n",
    "\n",
    "Примечание: секунды, которые возвращаются должны показывать время не с начала запуска генератора, а именно то время, которое прошло с предыдущей итерации. А значит время на первой итерации должно равняться 0.\n",
    "\n",
    "\n",
    "*Используйте функцию time из модуля time для подсчета времени.\\\n",
    "Чтобы проверить работу таймера, запустите проход по генератору в цикле с time.sleep(2)*\n",
    "\n"
   ]
  },
  {
   "cell_type": "code",
   "execution_count": 11,
   "metadata": {},
   "outputs": [
    {
     "name": "stdout",
     "output_type": "stream",
     "text": [
      "73\n",
      "Прошло: 2.0017542839050293\n",
      "4\n",
      "Прошло: 2.0007996559143066\n",
      "54\n",
      "Прошло: 2.0005991458892822\n",
      "61\n",
      "Прошло: 2.0008888244628906\n",
      "73\n",
      "Прошло: 2.000680923461914\n"
     ]
    }
   ],
   "source": [
    "from time import time\n",
    "from time import sleep\n",
    "\n",
    "def my_gen(data):\n",
    "    for i in data:\n",
    "        now_time = time()\n",
    "        yield i\n",
    "        print(f'Прошло: {time() - now_time}')\n",
    "\n",
    "\n",
    "a = my_gen(list)\n",
    "for i in a:\n",
    "    print(i)\n",
    "    sleep(2)"
   ]
  }
 ],
 "metadata": {
  "kernelspec": {
   "display_name": "Python 3",
   "language": "python",
   "name": "python3"
  },
  "language_info": {
   "codemirror_mode": {
    "name": "ipython",
    "version": 3
   },
   "file_extension": ".py",
   "mimetype": "text/x-python",
   "name": "python",
   "nbconvert_exporter": "python",
   "pygments_lexer": "ipython3",
   "version": "3.11.0"
  },
  "orig_nbformat": 4
 },
 "nbformat": 4,
 "nbformat_minor": 2
}
